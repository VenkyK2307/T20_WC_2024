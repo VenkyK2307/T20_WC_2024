{
 "cells": [
  {
   "cell_type": "markdown",
   "metadata": {},
   "source": [
    "# Prerequisites\n"
   ]
  },
  {
   "cell_type": "markdown",
   "metadata": {},
   "source": [
    "## Libraries required"
   ]
  },
  {
   "cell_type": "code",
   "execution_count": 2,
   "metadata": {},
   "outputs": [],
   "source": [
    "import pandas as pd\n",
    "from sklearn.tree import DecisionTreeClassifier\n",
    "from sklearn.model_selection import train_test_split\n",
    "from sklearn.metrics import accuracy_score\n",
    "import ipywidgets as widgets\n",
    "from IPython.display import display\n",
    "import warnings\n",
    "\n",
    "# Ignore XGBoost warnings (UserWarnings)\n",
    "warnings.filterwarnings('ignore', category=UserWarning, module='xgboost')\n"
   ]
  },
  {
   "cell_type": "markdown",
   "metadata": {},
   "source": [
    "## Loading The Data"
   ]
  },
  {
   "cell_type": "code",
   "execution_count": 3,
   "metadata": {},
   "outputs": [
    {
     "data": {
      "text/html": [
       "<div>\n",
       "<style scoped>\n",
       "    .dataframe tbody tr th:only-of-type {\n",
       "        vertical-align: middle;\n",
       "    }\n",
       "\n",
       "    .dataframe tbody tr th {\n",
       "        vertical-align: top;\n",
       "    }\n",
       "\n",
       "    .dataframe thead th {\n",
       "        text-align: right;\n",
       "    }\n",
       "</style>\n",
       "<table border=\"1\" class=\"dataframe\">\n",
       "  <thead>\n",
       "    <tr style=\"text-align: right;\">\n",
       "      <th></th>\n",
       "      <th>season</th>\n",
       "      <th>team1</th>\n",
       "      <th>team2</th>\n",
       "      <th>date</th>\n",
       "      <th>match_number</th>\n",
       "      <th>venue</th>\n",
       "      <th>city</th>\n",
       "      <th>toss_winner</th>\n",
       "      <th>toss_decision</th>\n",
       "      <th>player_of_match</th>\n",
       "      <th>umpire1</th>\n",
       "      <th>umpire2</th>\n",
       "      <th>reserve_umpire</th>\n",
       "      <th>match_referee</th>\n",
       "      <th>winner</th>\n",
       "      <th>winner_runs</th>\n",
       "      <th>winner_wickets</th>\n",
       "      <th>match_type</th>\n",
       "    </tr>\n",
       "  </thead>\n",
       "  <tbody>\n",
       "    <tr>\n",
       "      <th>0</th>\n",
       "      <td>2024</td>\n",
       "      <td>Canada</td>\n",
       "      <td>United States of America</td>\n",
       "      <td>2024/06/01</td>\n",
       "      <td>1</td>\n",
       "      <td>Grand Prairie Stadium</td>\n",
       "      <td>Dallas</td>\n",
       "      <td>United States of America</td>\n",
       "      <td>field</td>\n",
       "      <td>Aaron Jones</td>\n",
       "      <td>RK Illingworth</td>\n",
       "      <td>Sharfuddoula</td>\n",
       "      <td>L Rusere</td>\n",
       "      <td>RB Richardson</td>\n",
       "      <td>United States of America</td>\n",
       "      <td>NaN</td>\n",
       "      <td>7.0</td>\n",
       "      <td>Group</td>\n",
       "    </tr>\n",
       "    <tr>\n",
       "      <th>1</th>\n",
       "      <td>2024</td>\n",
       "      <td>Papua New Guinea</td>\n",
       "      <td>West Indies</td>\n",
       "      <td>2024/06/02</td>\n",
       "      <td>2</td>\n",
       "      <td>Providence Stadium</td>\n",
       "      <td>Providence</td>\n",
       "      <td>West Indies</td>\n",
       "      <td>field</td>\n",
       "      <td>RL Chase</td>\n",
       "      <td>AT Holdstock</td>\n",
       "      <td>Rashid Riaz</td>\n",
       "      <td>HDPK Dharmasena</td>\n",
       "      <td>AJ Pycroft</td>\n",
       "      <td>West Indies</td>\n",
       "      <td>NaN</td>\n",
       "      <td>5.0</td>\n",
       "      <td>Group</td>\n",
       "    </tr>\n",
       "    <tr>\n",
       "      <th>2</th>\n",
       "      <td>2024</td>\n",
       "      <td>Oman</td>\n",
       "      <td>Namibia</td>\n",
       "      <td>2024/06/02</td>\n",
       "      <td>3</td>\n",
       "      <td>Kensington Oval</td>\n",
       "      <td>Bridgetown</td>\n",
       "      <td>Namibia</td>\n",
       "      <td>field</td>\n",
       "      <td>D Wiese</td>\n",
       "      <td>J Madanagopal</td>\n",
       "      <td>JS Wilson</td>\n",
       "      <td>Asif Yaqoob</td>\n",
       "      <td>RS Madugalle</td>\n",
       "      <td>NaN</td>\n",
       "      <td>NaN</td>\n",
       "      <td>NaN</td>\n",
       "      <td>Group</td>\n",
       "    </tr>\n",
       "    <tr>\n",
       "      <th>3</th>\n",
       "      <td>2024</td>\n",
       "      <td>Sri Lanka</td>\n",
       "      <td>South Africa</td>\n",
       "      <td>2024/06/03</td>\n",
       "      <td>4</td>\n",
       "      <td>Nassau County International Cricket Stadium</td>\n",
       "      <td>New York</td>\n",
       "      <td>Sri Lanka</td>\n",
       "      <td>bat</td>\n",
       "      <td>A Nortje</td>\n",
       "      <td>CM Brown</td>\n",
       "      <td>RA Kettleborough</td>\n",
       "      <td>AG Wharf</td>\n",
       "      <td>JJ Crowe</td>\n",
       "      <td>South Africa</td>\n",
       "      <td>NaN</td>\n",
       "      <td>6.0</td>\n",
       "      <td>Group</td>\n",
       "    </tr>\n",
       "    <tr>\n",
       "      <th>4</th>\n",
       "      <td>2024</td>\n",
       "      <td>Afghanistan</td>\n",
       "      <td>Uganda</td>\n",
       "      <td>2024/06/03</td>\n",
       "      <td>5</td>\n",
       "      <td>Providence Stadium</td>\n",
       "      <td>Providence</td>\n",
       "      <td>Uganda</td>\n",
       "      <td>field</td>\n",
       "      <td>Fazalhaq Farooqi</td>\n",
       "      <td>Ahsan Raza</td>\n",
       "      <td>HDPK Dharmasena</td>\n",
       "      <td>Rashid Riaz</td>\n",
       "      <td>AJ Pycroft</td>\n",
       "      <td>Afghanistan</td>\n",
       "      <td>125.0</td>\n",
       "      <td>NaN</td>\n",
       "      <td>Group</td>\n",
       "    </tr>\n",
       "  </tbody>\n",
       "</table>\n",
       "</div>"
      ],
      "text/plain": [
       "   season             team1                     team2        date  \\\n",
       "0    2024            Canada  United States of America  2024/06/01   \n",
       "1    2024  Papua New Guinea               West Indies  2024/06/02   \n",
       "2    2024              Oman                   Namibia  2024/06/02   \n",
       "3    2024         Sri Lanka              South Africa  2024/06/03   \n",
       "4    2024       Afghanistan                    Uganda  2024/06/03   \n",
       "\n",
       "   match_number                                        venue        city  \\\n",
       "0             1                        Grand Prairie Stadium      Dallas   \n",
       "1             2                           Providence Stadium  Providence   \n",
       "2             3                              Kensington Oval  Bridgetown   \n",
       "3             4  Nassau County International Cricket Stadium    New York   \n",
       "4             5                           Providence Stadium  Providence   \n",
       "\n",
       "                toss_winner toss_decision   player_of_match         umpire1  \\\n",
       "0  United States of America         field       Aaron Jones  RK Illingworth   \n",
       "1               West Indies         field          RL Chase    AT Holdstock   \n",
       "2                   Namibia         field           D Wiese   J Madanagopal   \n",
       "3                 Sri Lanka           bat          A Nortje        CM Brown   \n",
       "4                    Uganda         field  Fazalhaq Farooqi      Ahsan Raza   \n",
       "\n",
       "            umpire2   reserve_umpire  match_referee                    winner  \\\n",
       "0      Sharfuddoula         L Rusere  RB Richardson  United States of America   \n",
       "1       Rashid Riaz  HDPK Dharmasena     AJ Pycroft               West Indies   \n",
       "2         JS Wilson      Asif Yaqoob   RS Madugalle                       NaN   \n",
       "3  RA Kettleborough         AG Wharf       JJ Crowe              South Africa   \n",
       "4   HDPK Dharmasena      Rashid Riaz     AJ Pycroft               Afghanistan   \n",
       "\n",
       "   winner_runs  winner_wickets match_type  \n",
       "0          NaN             7.0      Group  \n",
       "1          NaN             5.0      Group  \n",
       "2          NaN             NaN      Group  \n",
       "3          NaN             6.0      Group  \n",
       "4        125.0             NaN      Group  "
      ]
     },
     "execution_count": 3,
     "metadata": {},
     "output_type": "execute_result"
    }
   ],
   "source": [
    "\n",
    "\n",
    "deliveries = pd.read_csv('matches.csv')\n",
    "\n",
    "deliveries.head()\n"
   ]
  },
  {
   "cell_type": "markdown",
   "metadata": {},
   "source": [
    "## Cleaning Data "
   ]
  },
  {
   "cell_type": "code",
   "execution_count": 4,
   "metadata": {},
   "outputs": [],
   "source": [
    "\n",
    "import numpy as np\n",
    "from sklearn.model_selection import train_test_split\n",
    "from sklearn.ensemble import RandomForestClassifier\n",
    "\n",
    "\n",
    "# Step 1: Load the dataset\n",
    "matches_df = pd.read_csv('matches.csv')\n",
    "\n",
    "# Step 2: Preprocessing (Encode categorical variables)\n",
    "# Encode team names to numeric values\n",
    "teams = pd.concat([matches_df['team1'], matches_df['team2']]).unique()\n",
    "team_mapping = {team: idx for idx, team in enumerate(teams)}\n",
    "\n",
    "matches_df['team1_encoded'] = matches_df['team1'].map(team_mapping)\n",
    "matches_df['team2_encoded'] = matches_df['team2'].map(team_mapping)\n",
    "\n",
    "# Step 3: Encode the winner column (1 for team1 wins, 0 for team2 wins)\n",
    "matches_df['winner_encoded'] = matches_df.apply(lambda row: 1 if row['winner'] == row['team1'] else 0, axis=1)\n",
    "\n",
    "\n",
    "\n"
   ]
  },
  {
   "cell_type": "markdown",
   "metadata": {},
   "source": [
    "# Creating Model"
   ]
  },
  {
   "cell_type": "code",
   "execution_count": null,
   "metadata": {},
   "outputs": [],
   "source": [
    "\n",
    "# Step 4: Features and target variable\n",
    "X = matches_df[['team1_encoded', 'team2_encoded']] \n",
    "y = matches_df['winner_encoded'] \n",
    "\n",
    "# Step 5: Train-Test Split (80-20 Split)\n",
    "X_train, X_test, y_train, y_test = train_test_split(X, y, test_size=0.2, random_state=42)"
   ]
  },
  {
   "cell_type": "markdown",
   "metadata": {},
   "source": [
    "## Random Forest Classifier"
   ]
  },
  {
   "cell_type": "code",
   "execution_count": 6,
   "metadata": {},
   "outputs": [
    {
     "name": "stdout",
     "output_type": "stream",
     "text": [
      "Accuracy: 81.82%\n"
     ]
    }
   ],
   "source": [
    "rf_classifier = RandomForestClassifier(n_estimators=100, random_state=42)\n",
    "rf_classifier.fit(X_train, y_train)\n",
    "\n",
    "y_pred = rf_classifier.predict(X_test)\n",
    "accuracy = accuracy_score(y_test, y_pred)\n",
    "print(f'Accuracy: {accuracy * 100:.2f}%')\n",
    "\n"
   ]
  },
  {
   "cell_type": "code",
   "execution_count": 17,
   "metadata": {},
   "outputs": [
    {
     "name": "stdout",
     "output_type": "stream",
     "text": [
      "Confusion Matrix:\n",
      "[[3 1]\n",
      " [1 6]]\n"
     ]
    }
   ],
   "source": [
    "from sklearn.metrics import confusion_matrix, accuracy_score\n",
    "import seaborn as sns\n",
    "import matplotlib.pyplot as plt\n",
    "\n",
    "cm = confusion_matrix(y_test, y_pred)\n",
    "print(\"Confusion Matrix:\")\n",
    "print(cm)\n",
    "\n",
    "\n"
   ]
  },
  {
   "cell_type": "code",
   "execution_count": 7,
   "metadata": {},
   "outputs": [],
   "source": [
    "def predict_winner(team1, team2):\n",
    "    team1_encoded = team_mapping[team1]\n",
    "    team2_encoded = team_mapping[team2]\n",
    "    prediction = rf_classifier.predict([[team1_encoded, team2_encoded]])[0]\n",
    "    winner = team1 if prediction == 1 else team2\n",
    "    return winner"
   ]
  },
  {
   "cell_type": "markdown",
   "metadata": {},
   "source": [
    "## Other Model Comaprisions"
   ]
  },
  {
   "cell_type": "code",
   "execution_count": 8,
   "metadata": {},
   "outputs": [],
   "source": [
    "import pandas as pd\n",
    "from sklearn.metrics import accuracy_score\n",
    "from sklearn.model_selection import train_test_split\n",
    "\n",
    "# Classifiers\n",
    "from sklearn.linear_model import LogisticRegression\n",
    "from sklearn.svm import SVC\n",
    "from sklearn.ensemble import RandomForestClassifier\n",
    "from xgboost import XGBClassifier\n",
    "from sklearn.neighbors import KNeighborsClassifier\n",
    "from sklearn.naive_bayes import GaussianNB\n",
    "from sklearn.neural_network import MLPClassifier\n",
    "from sklearn.tree import DecisionTreeClassifier\n",
    "from sklearn.ensemble import GradientBoostingClassifier\n",
    "\n",
    "models = {\n",
    "    \n",
    "    'Random Forest': RandomForestClassifier(n_estimators=100, random_state=42),\n",
    "    'XGBoost': XGBClassifier(use_label_encoder=False, eval_metric='logloss'),\n",
    "    'K-Nearest Neighbors': KNeighborsClassifier(n_neighbors=5),\n",
    "    'Naive Bayes': GaussianNB(),\n",
    "    'Neural Network (MLP)': MLPClassifier(hidden_layer_sizes=(100,), max_iter=300),\n",
    "    'Decision Tree': DecisionTreeClassifier(random_state=42),\n",
    "    'Gradient Boosting': GradientBoostingClassifier(random_state=42)\n",
    "}\n",
    "\n"
   ]
  },
  {
   "cell_type": "code",
   "execution_count": 9,
   "metadata": {},
   "outputs": [
    {
     "name": "stderr",
     "output_type": "stream",
     "text": [
      "c:\\Users\\kamas\\AppData\\Local\\Programs\\Python\\Python312\\Lib\\site-packages\\sklearn\\neural_network\\_multilayer_perceptron.py:691: ConvergenceWarning: Stochastic Optimizer: Maximum iterations (300) reached and the optimization hasn't converged yet.\n",
      "  warnings.warn(\n"
     ]
    },
    {
     "data": {
      "text/html": [
       "<div>\n",
       "<style scoped>\n",
       "    .dataframe tbody tr th:only-of-type {\n",
       "        vertical-align: middle;\n",
       "    }\n",
       "\n",
       "    .dataframe tbody tr th {\n",
       "        vertical-align: top;\n",
       "    }\n",
       "\n",
       "    .dataframe thead th {\n",
       "        text-align: right;\n",
       "    }\n",
       "</style>\n",
       "<table border=\"1\" class=\"dataframe\">\n",
       "  <thead>\n",
       "    <tr style=\"text-align: right;\">\n",
       "      <th></th>\n",
       "      <th>Model</th>\n",
       "      <th>Accuracy (%)</th>\n",
       "    </tr>\n",
       "  </thead>\n",
       "  <tbody>\n",
       "    <tr>\n",
       "      <th>0</th>\n",
       "      <td>XGBoost</td>\n",
       "      <td>90.91</td>\n",
       "    </tr>\n",
       "    <tr>\n",
       "      <th>1</th>\n",
       "      <td>Random Forest</td>\n",
       "      <td>81.82</td>\n",
       "    </tr>\n",
       "    <tr>\n",
       "      <th>2</th>\n",
       "      <td>Gradient Boosting</td>\n",
       "      <td>81.82</td>\n",
       "    </tr>\n",
       "    <tr>\n",
       "      <th>3</th>\n",
       "      <td>K-Nearest Neighbors</td>\n",
       "      <td>72.73</td>\n",
       "    </tr>\n",
       "    <tr>\n",
       "      <th>4</th>\n",
       "      <td>Decision Tree</td>\n",
       "      <td>72.73</td>\n",
       "    </tr>\n",
       "    <tr>\n",
       "      <th>5</th>\n",
       "      <td>Naive Bayes</td>\n",
       "      <td>45.45</td>\n",
       "    </tr>\n",
       "    <tr>\n",
       "      <th>6</th>\n",
       "      <td>Neural Network (MLP)</td>\n",
       "      <td>36.36</td>\n",
       "    </tr>\n",
       "  </tbody>\n",
       "</table>\n",
       "</div>"
      ],
      "text/plain": [
       "                  Model  Accuracy (%)\n",
       "0               XGBoost         90.91\n",
       "1         Random Forest         81.82\n",
       "2     Gradient Boosting         81.82\n",
       "3   K-Nearest Neighbors         72.73\n",
       "4         Decision Tree         72.73\n",
       "5           Naive Bayes         45.45\n",
       "6  Neural Network (MLP)         36.36"
      ]
     },
     "execution_count": 9,
     "metadata": {},
     "output_type": "execute_result"
    }
   ],
   "source": [
    "# Store model accuracies\n",
    "results = {}\n",
    "\n",
    "# Train and evaluate each model\n",
    "for name, model in models.items():\n",
    "    model.fit(X_train, y_train)\n",
    "    y_pred = model.predict(X_test)\n",
    "    acc = accuracy_score(y_test, y_pred)\n",
    "    results[name] = round(acc * 100, 2)\n",
    "\n",
    "# Create and display accuracy table\n",
    "accuracy_table = pd.DataFrame(list(results.items()), columns=['Model', 'Accuracy (%)'])\n",
    "accuracy_table = accuracy_table.sort_values(by='Accuracy (%)', ascending=False).reset_index(drop=True) \n",
    "\n",
    "pd.DataFrame(accuracy_table)\n"
   ]
  },
  {
   "cell_type": "code",
   "execution_count": 10,
   "metadata": {},
   "outputs": [],
   "source": [
    "\n",
    "# Step 9: Create widgets for user input\n",
    "team1_dropdown = widgets.Dropdown(\n",
    "    options=teams,\n",
    "    description='Team 1:',\n",
    "    disabled=False\n",
    ")\n",
    "\n",
    "team2_dropdown = widgets.Dropdown(\n",
    "    options=teams,\n",
    "    description='Team 2:',\n",
    "    disabled=False\n",
    ")"
   ]
  },
  {
   "cell_type": "code",
   "execution_count": 18,
   "metadata": {},
   "outputs": [
    {
     "data": {
      "application/vnd.jupyter.widget-view+json": {
       "model_id": "e979752d3dfd45a1b400a14dae9e6e85",
       "version_major": 2,
       "version_minor": 0
      },
      "text/plain": [
       "Dropdown(description='Team 1:', index=8, options=('Canada', 'Papua New Guinea', 'Oman', 'Sri Lanka', 'Afghanis…"
      ]
     },
     "metadata": {},
     "output_type": "display_data"
    },
    {
     "data": {
      "application/vnd.jupyter.widget-view+json": {
       "model_id": "641550b3449345d1944565f5a4acf776",
       "version_major": 2,
       "version_minor": 0
      },
      "text/plain": [
       "Dropdown(description='Team 2:', index=4, options=('Canada', 'Papua New Guinea', 'Oman', 'Sri Lanka', 'Afghanis…"
      ]
     },
     "metadata": {},
     "output_type": "display_data"
    },
    {
     "data": {
      "application/vnd.jupyter.widget-view+json": {
       "model_id": "60312b2b5b704f0f99334fd2dd4340df",
       "version_major": 2,
       "version_minor": 0
      },
      "text/plain": [
       "Button(description='Predict Winner', style=ButtonStyle())"
      ]
     },
     "metadata": {},
     "output_type": "display_data"
    },
    {
     "data": {
      "application/vnd.jupyter.widget-view+json": {
       "model_id": "e0ea09e1e64e4e01973dcdaf9201f7ac",
       "version_major": 2,
       "version_minor": 0
      },
      "text/plain": [
       "Output()"
      ]
     },
     "metadata": {},
     "output_type": "display_data"
    }
   ],
   "source": [
    "predict_button = widgets.Button(description=\"Predict Winner\")\n",
    "output = widgets.Output()\n",
    "\n",
    "def on_predict_button_click(b):\n",
    "    team1 = team1_dropdown.value\n",
    "    team2 = team2_dropdown.value\n",
    "    winner = predict_winner(team1, team2)\n",
    "    \n",
    "    with output:\n",
    "        print(f'The predicted winner is: {winner}')\n",
    "\n",
    "predict_button.on_click(on_predict_button_click)\n",
    "\n",
    "display(team1_dropdown, team2_dropdown, predict_button, output)"
   ]
  }
 ],
 "metadata": {
  "kernelspec": {
   "display_name": "Python 3",
   "language": "python",
   "name": "python3"
  },
  "language_info": {
   "codemirror_mode": {
    "name": "ipython",
    "version": 3
   },
   "file_extension": ".py",
   "mimetype": "text/x-python",
   "name": "python",
   "nbconvert_exporter": "python",
   "pygments_lexer": "ipython3",
   "version": "3.12.8"
  }
 },
 "nbformat": 4,
 "nbformat_minor": 2
}
